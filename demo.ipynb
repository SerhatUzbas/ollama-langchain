{
 "cells": [
  {
   "cell_type": "code",
   "execution_count": 4,
   "metadata": {},
   "outputs": [],
   "source": [
    "from langchain_community.llms import Ollama\n",
    "llm = Ollama(model=\"llama3\")\n",
    "\n"
   ]
  },
  {
   "cell_type": "code",
   "execution_count": 5,
   "metadata": {},
   "outputs": [
    {
     "data": {
      "text/plain": [
       "\"Langsmith, a language model training platform, can be leveraged to assist with testing in various ways:\\n\\n1. **Automated Translation Testing**: Langsmith's translation capabilities enable automated testing of translated content. You can provide the original text and the target language, and Langsmith will generate the translation. This allows you to test the quality of machine translation outputs for different languages.\\n2. **Text Generation Testing**: Langsmith can generate text based on prompts or templates. You can use this feature to create test cases for natural language processing (NLP) models, such as chatbots or virtual assistants, by providing inputs and verifying the output against expected results.\\n3. **Language Understanding Tests**: Langsmith's language understanding capabilities enable you to test how well AI models comprehend text. Provide input texts with specific intent or meaning, and Langsmith will analyze the text to identify the intent or meaning. You can then verify if the AI model correctly understood the input.\\n4. **Error Detection and Correction**: Langsmith can be used to detect errors in machine-generated text, such as grammar mistakes, incorrect translations, or inconsistent formatting. This helps you identify areas where human review is necessary to ensure high-quality output.\\n5. **Testing Language-Aware AI Models**: Langsmith provides a platform to test language-aware AI models, such as sentiment analysis, named entity recognition (NER), and topic modeling. You can input text data and verify the accuracy of the model's outputs against expected results.\\n6. **Text Data Generation for Training**: Langsmith can generate synthetic text data that mimics real-world datasets. This enables you to train AI models on a larger dataset without requiring a significant amount of labeled data.\\n\\nBy leveraging Langsmith, you can automate testing processes, reduce manual effort, and focus on developing more accurate language processing models.\""
      ]
     },
     "execution_count": 5,
     "metadata": {},
     "output_type": "execute_result"
    }
   ],
   "source": [
    "llm.invoke(\"how can langsmith help with testing?\")"
   ]
  },
  {
   "cell_type": "code",
   "execution_count": 6,
   "metadata": {},
   "outputs": [
    {
     "data": {
      "text/plain": [
       "\"Why don't eggs tell jokes?\\n\\nBecause they'd crack each other up!\""
      ]
     },
     "execution_count": 6,
     "metadata": {},
     "output_type": "execute_result"
    }
   ],
   "source": [
    "llm.invoke('make a joke')"
   ]
  }
 ],
 "metadata": {
  "kernelspec": {
   "display_name": "venv",
   "language": "python",
   "name": "python3"
  },
  "language_info": {
   "codemirror_mode": {
    "name": "ipython",
    "version": 3
   },
   "file_extension": ".py",
   "mimetype": "text/x-python",
   "name": "python",
   "nbconvert_exporter": "python",
   "pygments_lexer": "ipython3",
   "version": "3.12.2"
  }
 },
 "nbformat": 4,
 "nbformat_minor": 2
}
